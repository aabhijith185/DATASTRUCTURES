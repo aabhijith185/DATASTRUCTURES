{
 "cells": [
  {
   "cell_type": "markdown",
   "metadata": {},
   "source": [
    "# STACK DATASTRUCTURE"
   ]
  },
  {
   "cell_type": "code",
   "execution_count": 14,
   "metadata": {},
   "outputs": [
    {
     "data": {
      "text/plain": [
       "3"
      ]
     },
     "execution_count": 14,
     "metadata": {},
     "output_type": "execute_result"
    }
   ],
   "source": [
    "class Stack:\n",
    "    def __init__(self):\n",
    "        self.items=[]\n",
    "    def is_empty(self):\n",
    "        return self.items==[]\n",
    "    def push(self,item):\n",
    "        self.items.append(item)\n",
    "    def pop(self):\n",
    "        return self.items.pop()\n",
    "    def peek(self):\n",
    "        return self.items[len(self.items)-1]\n",
    "    def size(self):\n",
    "        return len(self.items)\n",
    "s=Stack()\n",
    "s.is_empty()\n",
    "s.push(1)\n",
    "s.push(2)\n",
    "s.push(3)\n",
    "s.push(4)\n",
    "s.pop() \n",
    "s.size()\n",
    "        "
   ]
  },
  {
   "cell_type": "markdown",
   "metadata": {},
   "source": [
    "# Use a stack to check whether a string has balanced paranthesis"
   ]
  },
  {
   "cell_type": "code",
   "execution_count": 22,
   "metadata": {},
   "outputs": [
    {
     "name": "stdout",
     "output_type": "stream",
     "text": [
      "True\n"
     ]
    }
   ],
   "source": [
    "import stack\n",
    "def par_checker(string):\n",
    "    s=Stack()\n",
    "    balanced=True\n",
    "    index=0\n",
    "    while index<len(string) and balanced:\n",
    "        symbol=string[index]\n",
    "        if symbol in\"{([\":\n",
    "            s.push(symbol)\n",
    "        else:\n",
    "            if s.is_empty():\n",
    "                balanced=False\n",
    "            else:\n",
    "                s.pop()\n",
    "        index+=1\n",
    "    if balanced and s.is_empty():\n",
    "        return True\n",
    "    else:\n",
    "        return False\n",
    "print(par_checker(\"[][]\"))    "
   ]
  },
  {
   "cell_type": "code",
   "execution_count": 24,
   "metadata": {},
   "outputs": [
    {
     "name": "stdout",
     "output_type": "stream",
     "text": [
      "False\n"
     ]
    }
   ],
   "source": [
    "#modified paranthesis checker\n",
    "import stack\n",
    "def par_checker(string):\n",
    "    s=Stack()\n",
    "    balanced=True\n",
    "    index=0\n",
    "    while index<len(string) and balanced:\n",
    "        symbol=string[index]\n",
    "        if symbol in\"{([\":\n",
    "            s.push(symbol)\n",
    "        else:\n",
    "            if s.is_empty():\n",
    "                balanced=False\n",
    "            else:\n",
    "                top=s.pop()\n",
    "                if not matches(top,symbol):\n",
    "                    balanced= False\n",
    "        index+=1\n",
    "    if balanced and s.is_empty():\n",
    "        return True\n",
    "    else:\n",
    "        return False\n",
    "def matches(open,close):\n",
    "    opens=\"([{\"\n",
    "    closes=\")]}\"\n",
    "    return opens.index(open)==closes.index(close)\n",
    "print(par_checker(\"[][({{}})]]\"))    "
   ]
  },
  {
   "cell_type": "markdown",
   "metadata": {},
   "source": [
    "# CONVERT DECIMAL NUMBER INTO BINARY"
   ]
  },
  {
   "cell_type": "code",
   "execution_count": 26,
   "metadata": {},
   "outputs": [
    {
     "name": "stdout",
     "output_type": "stream",
     "text": [
      "1010\n"
     ]
    }
   ],
   "source": [
    "import stack\n",
    "def binary_converter(decimal):\n",
    "    rem_stack=Stack()\n",
    "    while decimal>0:\n",
    "        rem=decimal%2\n",
    "        rem_stack.push(rem)\n",
    "        decimal=decimal//2\n",
    "    bin_string=\"\"\n",
    "    while not rem_stack.is_empty():\n",
    "        bin_string=bin_string+str(rem_stack.pop())\n",
    "    return bin_string\n",
    "print(binary_converter(10))"
   ]
  },
  {
   "cell_type": "markdown",
   "metadata": {},
   "source": [
    "# BASE CONVERTER( decimal to another )"
   ]
  },
  {
   "cell_type": "code",
   "execution_count": 27,
   "metadata": {},
   "outputs": [
    {
     "name": "stdout",
     "output_type": "stream",
     "text": [
      "19\n",
      "572\n"
     ]
    }
   ],
   "source": [
    "def baseconverter(dec_number,base):\n",
    "    digits=\"0123456789ABCDEF\"\n",
    "    rem_stack=Stack()\n",
    "    while dec_number > 0:\n",
    "        rem=dec_number%base\n",
    "        rem_stack.push(rem)\n",
    "        dec_number=dec_number//base\n",
    "    new_string=\"\"\n",
    "    while not rem_stack.is_empty():\n",
    "        new_string=new_string+digits[rem_stack.pop()]\n",
    "    return new_string\n",
    "print(baseconverter(25,16))\n",
    "print(baseconverter(378,8))"
   ]
  },
  {
   "cell_type": "markdown",
   "metadata": {},
   "source": [
    "# QUEUE DATASTRUCTURE"
   ]
  },
  {
   "cell_type": "code",
   "execution_count": 4,
   "metadata": {},
   "outputs": [
    {
     "data": {
      "text/plain": [
       "2"
      ]
     },
     "execution_count": 4,
     "metadata": {},
     "output_type": "execute_result"
    }
   ],
   "source": [
    "class Queue:\n",
    "    def __init__(self):\n",
    "        self.items=[]\n",
    "    def is_empty(self):\n",
    "        return self.items==[]\n",
    "    def peek(self):\n",
    "        return self.items(len(self.items)-1)\n",
    "    def enqueu(self,item):\n",
    "        self.items.insert(0,item)\n",
    "    def dequeu(self):\n",
    "        return self.items.pop()\n",
    "    def size(self):\n",
    "        return len(self.items)\n",
    "num=Queue()\n",
    "num.enqueu(1)\n",
    "num.enqueu(2)\n",
    "num.enqueu(3)\n",
    "num.enqueu(4)\n",
    "num.enqueu(5)\n",
    "num.size()\n",
    "num.dequeu()\n",
    "num.dequeu()"
   ]
  },
  {
   "cell_type": "markdown",
   "metadata": {},
   "source": [
    "# HOT POTATO GAME"
   ]
  },
  {
   "cell_type": "markdown",
   "metadata": {},
   "source": [
    "# linked list\n",
    "\n",
    "\n"
   ]
  },
  {
   "cell_type": "code",
   "execution_count": null,
   "metadata": {},
   "outputs": [],
   "source": []
  },
  {
   "cell_type": "markdown",
   "metadata": {},
   "source": [
    "# ARRAY DATASTRUCTURE"
   ]
  },
  {
   "cell_type": "markdown",
   "metadata": {},
   "source": [
    "1.TAKE MATRIX INPUT FROM THE USER AND DISPLAY THE MATRIX IN PYTHON"
   ]
  },
  {
   "cell_type": "code",
   "execution_count": null,
   "metadata": {},
   "outputs": [],
   "source": [
    "a= int(input(\"Enter the number of rows\"))\n",
    "b=int(input(\"Enter the number of columns\"))\n",
    "matrix=[]\n",
    "for i  in range(a):#loops through the rows\n",
    "    c=[]\n",
    "    for j in range(b):\n",
    "        j=int(input(\"Enter the number in pocket\"+str(i)+\" \"+str(j)+\" \"))\n",
    "        c.append(j)\n",
    "    print()\n",
    "    matrix.append(c)\n",
    "for i in range(a):\n",
    "    for j in range(b):\n",
    "        print(matrix[i][j],end=\" \")\n",
    "    print()    "
   ]
  },
  {
   "cell_type": "code",
   "execution_count": 17,
   "metadata": {},
   "outputs": [
    {
     "name": "stdout",
     "output_type": "stream",
     "text": [
      "Enter the number of rows4\n",
      "Enter the number of columns3\n",
      "Enter the elements in the pocket:0 0: 5\n",
      "Enter the elements in the pocket:0 1: 5\n",
      "Enter the elements in the pocket:0 2: 5\n",
      "\n",
      "Enter the elements in the pocket:1 0: 2\n",
      "Enter the elements in the pocket:1 1: 4\n",
      "Enter the elements in the pocket:1 2: 5\n",
      "\n",
      "Enter the elements in the pocket:2 0: 6\n",
      "Enter the elements in the pocket:2 1: 2\n",
      "Enter the elements in the pocket:2 2: 8\n",
      "\n",
      "Enter the elements in the pocket:3 0: 4\n",
      "Enter the elements in the pocket:3 1: 5\n",
      "Enter the elements in the pocket:3 2: 2\n",
      "\n",
      "5 5 5 \n",
      "2 4 5 \n",
      "6 2 8 \n",
      "4 5 2 \n"
     ]
    }
   ],
   "source": [
    "a=int(input(\"Enter the number of rows\"))\n",
    "b=int(input(\"Enter the number of columns\"))\n",
    "matrix=[]\n",
    "for i in range(a):\n",
    "      c=[]\n",
    "      for j in range(b): \n",
    "           j=int(input(\"Enter the elements in the pocket:\"+str(i)+\" \"+str(j)+\":\"+\" \"))\n",
    "           c.append(j)\n",
    "      print()\n",
    "      matrix.append(c)\n",
    "for i in range(a):\n",
    "      for j in range(b):\n",
    "           print(matrix[i][j],end=\" \")\n",
    "      print()\n",
    "      \n",
    "      \n",
    "      \n"
   ]
  },
  {
   "cell_type": "markdown",
   "metadata": {},
   "source": [
    "2.ADDITION OF MATRICES"
   ]
  },
  {
   "cell_type": "code",
   "execution_count": null,
   "metadata": {},
   "outputs": [
    {
     "name": "stdout",
     "output_type": "stream",
     "text": [
      "Enter the number of rows3\n",
      "Enter the number of columns3\n",
      "ENTER THE ARRAY ELEMENTS IN THE POCKET: 0 0 1\n",
      "ENTER THE ARRAY ELEMENTS IN THE POCKET: 0 1 2\n",
      "ENTER THE ARRAY ELEMENTS IN THE POCKET: 0 2 3\n",
      "\n",
      "ENTER THE ARRAY ELEMENTS IN THE POCKET: 1 0 4\n",
      "ENTER THE ARRAY ELEMENTS IN THE POCKET: 1 1 5\n",
      "ENTER THE ARRAY ELEMENTS IN THE POCKET: 1 2 6\n",
      "\n",
      "ENTER THE ARRAY ELEMENTS IN THE POCKET: 2 0 7\n",
      "ENTER THE ARRAY ELEMENTS IN THE POCKET: 2 1 8\n",
      "ENTER THE ARRAY ELEMENTS IN THE POCKET: 2 2 9\n",
      "\n"
     ]
    }
   ],
   "source": [
    "a=int(input(\"Enter the number of rows\"))\n",
    "b=int(input(\"Enter the number of columns\"))\n",
    "matrix1=[]\n",
    "matrix2=[]\n",
    "result=[]\n",
    "for i in range(a):\n",
    "    c=[]\n",
    "    for j in range(b):\n",
    "        j=int(input(\"ENTER THE ARRAY ELEMENTS IN THE POCKET: \"+str(i)+\" \"+str(j)+\" \"))\n",
    "        c.append(j)\n",
    "    print()    \n",
    "    matrix1.append(c)\n",
    "for i in range(a):\n",
    "    d=[]\n",
    "    for j in range(b):\n",
    "        j=int(input(\"ENTER THE ARRAY ELEMENTS IN THE POCKET[2]: \"+str(i)+\" \"+str(j)+\" \"))\n",
    "        d.append(j)\n",
    "    print()        \n",
    "    matrix2.append(d)\n",
    "print(\"----------------MATRIX1--------------------------------------\")\n",
    "for i in range(a):\n",
    "    for j in range(b):\n",
    "        print(matrix1[i][j],end=\" \")\n",
    "    print() \n",
    "print(\"----------------MATRIX2--------------------------------------\")\n",
    "for i in range(a):\n",
    "    for j in range(b):\n",
    "        print(matrix2[i][j],end=\" \")\n",
    "    print()        \n",
    "result=[[0,0,0],[0,0,0],[0,0,0]]  \n",
    "for i in range(a):\n",
    "    for j in range(b):\n",
    "        result[i][j]=matrix1[i][j]+matrix2[i][j]\n",
    "print(\"----------------RESULT--------------------------------------\")\n",
    "for i in range(a):\n",
    "    for j in range(b):\n",
    "        print(result[i][j],end=\" \")\n",
    "    print() \n",
    "        "
   ]
  },
  {
   "cell_type": "markdown",
   "metadata": {},
   "source": [
    "TRANSPOSE OF A MATRIX"
   ]
  },
  {
   "cell_type": "code",
   "execution_count": 6,
   "metadata": {},
   "outputs": [
    {
     "name": "stdout",
     "output_type": "stream",
     "text": [
      "Enter the number of rows3\n",
      "Enter the number of columns3\n",
      "ENTER THE ARRAY ELEMENTS IN THE POCKET: 0 0 1\n",
      "ENTER THE ARRAY ELEMENTS IN THE POCKET: 0 1 2\n",
      "ENTER THE ARRAY ELEMENTS IN THE POCKET: 0 2 3\n",
      "\n",
      "ENTER THE ARRAY ELEMENTS IN THE POCKET: 1 0 2\n",
      "ENTER THE ARRAY ELEMENTS IN THE POCKET: 1 1 3\n",
      "ENTER THE ARRAY ELEMENTS IN THE POCKET: 1 2 4\n",
      "\n",
      "ENTER THE ARRAY ELEMENTS IN THE POCKET: 2 0 4\n",
      "ENTER THE ARRAY ELEMENTS IN THE POCKET: 2 1 5\n",
      "ENTER THE ARRAY ELEMENTS IN THE POCKET: 2 2 5\n",
      "\n",
      "-----------------------------MATRIX1----------------------------------\n",
      "1 2 3 \n",
      "2 3 4 \n",
      "4 5 5 \n",
      "-----------------------------TRANSPOSE----------------------------------\n",
      "1.0 2.0 4.0 \n",
      "2.0 3.0 5.0 \n",
      "3.0 4.0 5.0 \n"
     ]
    }
   ],
   "source": [
    "### \n",
    "import numpy as np\n",
    "a=int(input(\"Enter the number of rows\"))\n",
    "b=int(input(\"Enter the number of columns\"))\n",
    "matrix1=[]\n",
    "transpose=np.zeros((a,b))\n",
    "for i in range(a):\n",
    "    c=[]\n",
    "    for j in range(b):\n",
    "        j=int(input(\"ENTER THE ARRAY ELEMENTS IN THE POCKET: \"+str(i)+\" \"+str(j)+\" \"))\n",
    "        c.append(j)\n",
    "    print()    \n",
    "    matrix1.append(c)\n",
    "#transpose\n",
    "if a==b:\n",
    "    for i in range(a):\n",
    "        for j in range(b):\n",
    "                transpose[j][i]=matrix1[i][j]\n",
    "print(\"-----------------------------MATRIX1----------------------------------\")\n",
    "for i in range(a):\n",
    "    for j in range(b):\n",
    "        print(matrix1[i][j],end=\" \")\n",
    "    print()\n",
    "print(\"-----------------------------TRANSPOSE----------------------------------\")\n",
    "for i in range(a):\n",
    "    for j in range(b):\n",
    "        print(transpose[i][j],end=\" \")\n",
    "    print() "
   ]
  },
  {
   "cell_type": "markdown",
   "metadata": {},
   "source": [
    "MULTIPLY MATRICES"
   ]
  },
  {
   "cell_type": "code",
   "execution_count": 1,
   "metadata": {},
   "outputs": [
    {
     "name": "stdout",
     "output_type": "stream",
     "text": [
      "Enter the elements:0 0 1\n",
      "Enter the elements:0 1 2\n",
      "Enter the elements:0 2 3\n",
      "\n",
      "Enter the elements:1 0 2\n",
      "Enter the elements:1 1 1\n",
      "Enter the elements:1 2 2\n",
      "\n",
      "Enter the elements:2 0 1\n",
      "Enter the elements:2 1 2\n",
      "Enter the elements:2 2 3\n",
      "\n",
      "Enter the elements:0 0 3\n",
      "Enter the elements:0 1 2\n",
      "Enter the elements:0 2 1\n",
      "\n",
      "Enter the elements:1 0 2\n",
      "Enter the elements:1 1 1\n",
      "Enter the elements:1 2 2\n",
      "\n",
      "Enter the elements:2 0 1\n",
      "Enter the elements:2 1 2\n",
      "Enter the elements:2 2 1\n",
      "\n",
      "-------------------------MATRIX1---------------------------------\n",
      "1 2 3 \n",
      "2 1 2 \n",
      "1 2 3 \n",
      "---------------------------MATRIX2-------------------------------\n",
      "3 2 1 \n",
      "2 1 2 \n",
      "1 2 1 \n",
      "--------------------MATRIX PRODUCT--------------------------------------\n",
      "10 10 8 \n",
      "10 9 6 \n",
      "10 10 8 \n"
     ]
    }
   ],
   "source": [
    "matrix1=[]\n",
    "matrix2=[]\n",
    "for i in range(3):\n",
    "    m=[]\n",
    "    for j in range(3):\n",
    "        j=int(input(\"Enter the elements:\"+str(i)+\" \"+str(j)+\" \"))\n",
    "        m.append(j)\n",
    "    print()\n",
    "    matrix1.append(m)\n",
    "    \n",
    "for i in range(3):\n",
    "    n=[]\n",
    "    for j in range(3):\n",
    "        j=int(input(\"Enter the elements:\"+str(i)+\" \"+str(j)+\" \"))\n",
    "        n.append(j)\n",
    "    print()\n",
    "    matrix2.append(n)  \n",
    "print(\"-------------------------MATRIX1---------------------------------\")    \n",
    "for i in range(3):\n",
    "    for j in range(3):\n",
    "        print(matrix1[i][j],end=\" \")\n",
    "    print()\n",
    "print(\"---------------------------MATRIX2-------------------------------\")\n",
    "for i in range(3):\n",
    "    for j in range(3):\n",
    "        print(matrix2[i][j],end=\" \")\n",
    "    print()\n",
    "result=[[0,0,0],[0,0,0],[0,0,0]]\n",
    "\n",
    "for i in range(3):\n",
    "    for j in range(3):\n",
    "        for k in range(3):\n",
    "            result[i][j]+=matrix1[i][k]*matrix2[k][j]       \n",
    "        \n",
    "print(\"--------------------MATRIX PRODUCT--------------------------------------\")\n",
    "for i in range(3):\n",
    "    for j in range(3):\n",
    "        print(result[i][j],end=\" \")\n",
    "    print()\n",
    "    \n",
    "    \n",
    "    \n",
    "    \n",
    "    "
   ]
  },
  {
   "cell_type": "markdown",
   "metadata": {},
   "source": [
    "# PRINT DIAGONAL ELEMENTSOF A MATRIX"
   ]
  },
  {
   "cell_type": "code",
   "execution_count": 8,
   "metadata": {},
   "outputs": [
    {
     "name": "stdout",
     "output_type": "stream",
     "text": [
      "Enter the number of rows3\n",
      "Enter the number of columns3\n",
      "Enter the elements:0 0 1\n",
      "Enter the elements:0 1 2\n",
      "Enter the elements:0 2 3\n",
      "\n",
      "Enter the elements:1 0 4\n",
      "Enter the elements:1 1 5\n",
      "Enter the elements:1 2 6\n",
      "\n",
      "Enter the elements:2 0 7\n",
      "Enter the elements:2 1 8\n",
      "Enter the elements:2 2 9\n",
      "\n",
      "-------------------------MATRIX1---------------------------------\n",
      "1 2 3 \n",
      "4 5 6 \n",
      "7 8 9 \n",
      "---------------------------DIAGONAL MATRIX----------------------------------------\n",
      "1 5 9 "
     ]
    }
   ],
   "source": [
    "import numpy as np\n",
    "a=int(input(\"Enter the number of rows\"))\n",
    "b=int(input(\"Enter the number of columns\"))\n",
    "matrix1=[]\n",
    "for i in range(a):\n",
    "    m=[]\n",
    "    for j in range(b):\n",
    "        j=int(input(\"Enter the elements:\"+str(i)+\" \"+str(j)+\" \"))\n",
    "        m.append(j)\n",
    "    print()\n",
    "    matrix1.append(m)\n",
    "print(\"-------------------------MATRIX1---------------------------------\")    \n",
    "for i in range(a):\n",
    "    for j in range(b):\n",
    "        print(matrix1[i][j],end=\" \")\n",
    "    print()\n",
    "print(\"---------------------------DIAGONAL MATRIX----------------------------------------\")\n",
    "for i in range(a):\n",
    "    for j in range(b):\n",
    "        if i==j:\n",
    "            print(matrix1[i][j],end=\" \")\n",
    "\n",
    "    \n",
    "            \n",
    "   \n",
    "    \n"
   ]
  },
  {
   "cell_type": "markdown",
   "metadata": {},
   "source": [
    " FIND LOWER AND UPPER TRIANGULAR MATRICES"
   ]
  },
  {
   "cell_type": "code",
   "execution_count": 9,
   "metadata": {},
   "outputs": [
    {
     "name": "stdout",
     "output_type": "stream",
     "text": [
      "Enter the number of rows3\n",
      "Enter the number of columns3\n",
      "Enter the elements:0 0 1\n",
      "Enter the elements:0 1 2\n",
      "Enter the elements:0 2 3\n",
      "\n",
      "Enter the elements:1 0 3\n",
      "Enter the elements:1 1 4\n",
      "Enter the elements:1 2 5\n",
      "\n",
      "Enter the elements:2 0 6\n",
      "Enter the elements:2 1 7\n",
      "Enter the elements:2 2 8\n",
      "\n",
      "-------------------------MATRIX1---------------------------------\n",
      "1 2 3 \n",
      "3 4 5 \n",
      "6 7 8 \n",
      "-------------------------LOWER TRIANGULAR MATRIX---------------------------------\n",
      "3 6 7 -------------------------UPPER TRIANGULAR MATRIX---------------------------------\n",
      "2 3 5 "
     ]
    }
   ],
   "source": [
    "a=int(input(\"Enter the number of rows\"))\n",
    "b=int(input(\"Enter the number of columns\"))\n",
    "matrix1=[]\n",
    "for i in range(a):\n",
    "    m=[]\n",
    "    for j in range(b):\n",
    "        j=int(input(\"Enter the elements:\"+str(i)+\" \"+str(j)+\" \"))\n",
    "        m.append(j)\n",
    "    print()\n",
    "    matrix1.append(m)\n",
    "print(\"-------------------------MATRIX1---------------------------------\")    \n",
    "for i in range(a):\n",
    "    for j in range(b):\n",
    "        print(matrix1[i][j],end=\" \")\n",
    "    print()\n",
    "print(\"-------------------------LOWER TRIANGULAR MATRIX---------------------------------\")        \n",
    "for i in range(a):\n",
    "    for j in range(b):\n",
    "        if i>j:\n",
    "            print(matrix1[i][j],end=\" \")\n",
    "print(\"-------------------------UPPER TRIANGULAR MATRIX---------------------------------\")        \n",
    "for i in range(a):\n",
    "    for j in range(b):\n",
    "        if i<j:\n",
    "            print(matrix1[i][j],end=\" \")\n"
   ]
  },
  {
   "cell_type": "markdown",
   "metadata": {},
   "source": [
    "#SUM  OF UPPER TRIANGULAR MATRIX"
   ]
  },
  {
   "cell_type": "code",
   "execution_count": 24,
   "metadata": {},
   "outputs": [
    {
     "name": "stdout",
     "output_type": "stream",
     "text": [
      "Enter the number of rows3\n",
      "Enter the number of columns3\n",
      "Enter the elements:0 0 1\n",
      "Enter the elements:0 1 2\n",
      "Enter the elements:0 2 3\n",
      "\n",
      "Enter the elements:1 0 4\n",
      "Enter the elements:1 1 5\n",
      "Enter the elements:1 2 6\n",
      "\n",
      "Enter the elements:2 0 7\n",
      "Enter the elements:2 1 8\n",
      "Enter the elements:2 2 9\n",
      "\n",
      "-------------------------MATRIX1---------------------------------\n",
      "1 2 3 \n",
      "4 5 6 \n",
      "7 8 9 \n",
      "-------------------------UPPER TRIANGULAR MATRIX---------------------------------\n",
      "2 3 6 \n",
      "11\n"
     ]
    }
   ],
   "source": [
    "a=int(input(\"Enter the number of rows\"))\n",
    "b=int(input(\"Enter the number of columns\"))\n",
    "matrix1=[]\n",
    "for i in range(a):\n",
    "    m=[]\n",
    "    for j in range(b):\n",
    "        j=int(input(\"Enter the elements:\"+str(i)+\" \"+str(j)+\" \"))\n",
    "        m.append(j)\n",
    "    print()\n",
    "    matrix1.append(m)\n",
    "print(\"-------------------------MATRIX1---------------------------------\")    \n",
    "for i in range(a):\n",
    "    for j in range(b):\n",
    "        print(matrix1[i][j],end=\" \")\n",
    "    print()    \n",
    "    \n",
    "\n",
    "print(\"-------------------------UPPER TRIANGULAR MATRIX---------------------------------\") \n",
    "for i in range(a):\n",
    "    for j in range(b):\n",
    "        if i<j:\n",
    "            print(matrix1[i][j],end=\" \")\n",
    "print()            \n",
    "uppersum=0\n",
    "\n",
    "for i in range(a):\n",
    "    for j in range(b):\n",
    "        if i<j:\n",
    "            uppersum+=matrix1[i][j]\n",
    "print(uppersum)\n",
    "            \n",
    "            \n"
   ]
  },
  {
   "cell_type": "markdown",
   "metadata": {},
   "source": [
    "PRINT ROWSUM AND COLUMNSUM OF A MATRIX"
   ]
  },
  {
   "cell_type": "code",
   "execution_count": 28,
   "metadata": {},
   "outputs": [
    {
     "name": "stdout",
     "output_type": "stream",
     "text": [
      "Enter the number of rows3\n",
      "Enter the number of columns3\n",
      "Enter the elements:0 0 1\n",
      "Enter the elements:0 1 2\n",
      "Enter the elements:0 2 3\n",
      "\n",
      "Enter the elements:1 0 4\n",
      "Enter the elements:1 1 5\n",
      "Enter the elements:1 2 6\n",
      "\n",
      "Enter the elements:2 0 7\n",
      "Enter the elements:2 1 8\n",
      "Enter the elements:2 2 9\n",
      "\n",
      "1 2 3 6 \n",
      "4 5 6 21 \n",
      "7 8 9 45 \n",
      "12 27 45 "
     ]
    }
   ],
   "source": [
    "a=int(input(\"Enter the number of rows\"))\n",
    "b=int(input(\"Enter the number of columns\"))\n",
    "matrix1=[]\n",
    "r=[]\n",
    "c=[]\n",
    "for i in range(a):\n",
    "    m=[]\n",
    "    for j in range(b):\n",
    "        j=int(input(\"Enter the elements:\"+str(i)+\" \"+str(j)+\" \"))\n",
    "        m.append(j)\n",
    "    print()\n",
    "    matrix1.append(m)  \n",
    "row=0\n",
    "column=0\n",
    "for i in range(a):\n",
    "    for j in range(b):\n",
    "        row+=matrix1[i][j]\n",
    "        column+=matrix1[j][i]\n",
    "    r.append(row)\n",
    "    c.append(column)\n",
    "for i in range(a):\n",
    "    for j in range(b):\n",
    "        print(matrix1[i][j],end=\" \")\n",
    "        \n",
    "    print(r[i],end=\" \")\n",
    "    print()      \n",
    "for i in range(a):\n",
    "    print(c[i],end=\" \")"
   ]
  },
  {
   "cell_type": "code",
   "execution_count": 6,
   "metadata": {},
   "outputs": [],
   "source": []
  },
  {
   "cell_type": "code",
   "execution_count": null,
   "metadata": {},
   "outputs": [],
   "source": []
  }
 ],
 "metadata": {
  "kernelspec": {
   "display_name": "Python 3",
   "language": "python",
   "name": "python3"
  },
  "language_info": {
   "codemirror_mode": {
    "name": "ipython",
    "version": 3
   },
   "file_extension": ".py",
   "mimetype": "text/x-python",
   "name": "python",
   "nbconvert_exporter": "python",
   "pygments_lexer": "ipython3",
   "version": "3.7.6"
  }
 },
 "nbformat": 4,
 "nbformat_minor": 4
}
